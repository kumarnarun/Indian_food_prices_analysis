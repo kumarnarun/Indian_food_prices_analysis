{
 "cells": [
  {
   "cell_type": "markdown",
   "id": "4bb37896",
   "metadata": {},
   "source": [
    "## Importing required libraries"
   ]
  },
  {
   "cell_type": "code",
   "execution_count": 3,
   "id": "358292bc",
   "metadata": {},
   "outputs": [],
   "source": [
    "import pandas as pd\n",
    "import numpy as np\n",
    "import matplotlib.pyplot as plt\n",
    "import seaborn as sns"
   ]
  },
  {
   "cell_type": "markdown",
   "id": "15dfb318",
   "metadata": {},
   "source": [
    "## Reading the file"
   ]
  },
  {
   "cell_type": "markdown",
   "id": "31e90515",
   "metadata": {},
   "source": [
    "As the data is in excel format it took some time to load"
   ]
  },
  {
   "cell_type": "markdown",
   "id": "ee786d93",
   "metadata": {},
   "source": [
    "I left out some unnecessary features in the dataset"
   ]
  },
  {
   "cell_type": "markdown",
   "id": "54b8ee6b",
   "metadata": {},
   "source": [
    "Basically, my idea is to identify the trend of the food prices in that particular market"
   ]
  },
  {
   "cell_type": "markdown",
   "id": "f11ec88b",
   "metadata": {},
   "source": [
    "We can also compare the mean prices in diferrent markets"
   ]
  },
  {
   "cell_type": "code",
   "execution_count": 2,
   "id": "2186e102",
   "metadata": {},
   "outputs": [
    {
     "data": {
      "text/html": [
       "<div>\n",
       "<style scoped>\n",
       "    .dataframe tbody tr th:only-of-type {\n",
       "        vertical-align: middle;\n",
       "    }\n",
       "\n",
       "    .dataframe tbody tr th {\n",
       "        vertical-align: top;\n",
       "    }\n",
       "\n",
       "    .dataframe thead th {\n",
       "        text-align: right;\n",
       "    }\n",
       "</style>\n",
       "<table border=\"1\" class=\"dataframe\">\n",
       "  <thead>\n",
       "    <tr style=\"text-align: right;\">\n",
       "      <th></th>\n",
       "      <th>date</th>\n",
       "      <th>market</th>\n",
       "      <th>category</th>\n",
       "      <th>commodity</th>\n",
       "      <th>price</th>\n",
       "    </tr>\n",
       "  </thead>\n",
       "  <tbody>\n",
       "    <tr>\n",
       "      <th>0</th>\n",
       "      <td>1994-01-15</td>\n",
       "      <td>Delhi</td>\n",
       "      <td>cereals and tubers</td>\n",
       "      <td>Rice</td>\n",
       "      <td>8.0</td>\n",
       "    </tr>\n",
       "    <tr>\n",
       "      <th>1</th>\n",
       "      <td>1994-01-15</td>\n",
       "      <td>Delhi</td>\n",
       "      <td>cereals and tubers</td>\n",
       "      <td>Wheat</td>\n",
       "      <td>5.0</td>\n",
       "    </tr>\n",
       "    <tr>\n",
       "      <th>2</th>\n",
       "      <td>1994-01-15</td>\n",
       "      <td>Delhi</td>\n",
       "      <td>miscellaneous food</td>\n",
       "      <td>Sugar</td>\n",
       "      <td>13.5</td>\n",
       "    </tr>\n",
       "    <tr>\n",
       "      <th>3</th>\n",
       "      <td>1994-01-15</td>\n",
       "      <td>Delhi</td>\n",
       "      <td>oil and fats</td>\n",
       "      <td>Oil (mustard)</td>\n",
       "      <td>31.0</td>\n",
       "    </tr>\n",
       "    <tr>\n",
       "      <th>4</th>\n",
       "      <td>1994-01-15</td>\n",
       "      <td>Ahmedabad</td>\n",
       "      <td>cereals and tubers</td>\n",
       "      <td>Rice</td>\n",
       "      <td>6.8</td>\n",
       "    </tr>\n",
       "  </tbody>\n",
       "</table>\n",
       "</div>"
      ],
      "text/plain": [
       "         date     market            category      commodity  price\n",
       "0  1994-01-15      Delhi  cereals and tubers           Rice    8.0\n",
       "1  1994-01-15      Delhi  cereals and tubers          Wheat    5.0\n",
       "2  1994-01-15      Delhi  miscellaneous food          Sugar   13.5\n",
       "3  1994-01-15      Delhi        oil and fats  Oil (mustard)   31.0\n",
       "4  1994-01-15  Ahmedabad  cereals and tubers           Rice    6.8"
      ]
     },
     "execution_count": 2,
     "metadata": {},
     "output_type": "execute_result"
    }
   ],
   "source": [
    "df = pd.read_excel('optimized_india_food_prices.xlsx')\n",
    "df.head()"
   ]
  },
  {
   "cell_type": "code",
   "execution_count": 3,
   "id": "39a5335a",
   "metadata": {},
   "outputs": [
    {
     "data": {
      "text/plain": [
       "array(['Delhi', 'Ahmedabad', 'Shimla', 'Bengaluru', 'Bhopal', 'Mumbai',\n",
       "       'Bhubaneshwar', 'Hyderabad', 'Agartala', 'Kolkata', 'Shillong',\n",
       "       'Jaipur', 'Chennai', 'Guwahati', 'Tiruvanantapuram', 'Lucknow',\n",
       "       'Aizawl', 'Patna', 'Chandigarh', 'Ranchi', 'Raipur', 'Kohima',\n",
       "       'Amritsar', 'Ludhiana', 'Dehradun', 'Vijaywada', 'Rajkot',\n",
       "       'Dindigul', 'Kanpur', 'Bhagalpur', 'Hisar', 'Karnal', 'Mandi',\n",
       "       'Dharwad', 'Nagpur', 'Cuttack', 'Sambalpur', 'Thiruchirapalli',\n",
       "       'Agra', 'Varanasi', 'Siliguri', 'Indore', 'Dimapur', 'Bathinda',\n",
       "       'Jodhpur', 'Ernakulam', 'Kota', 'Port Blair', 'Puducherry',\n",
       "       'Panaji', 'Gurgaon', 'Panchkula', 'Kozhikode', 'T.Puram',\n",
       "       'Gwalior', 'Jabalpur', 'Rourkela', 'Mayabunder', 'Tirupathi',\n",
       "       'Kurnool', 'Visakhapatnam', 'Darbhanga', 'Bihar_Gaya',\n",
       "       'Muzzafarpur', 'Purnia', 'Jagdalpur', 'Bilaspur', 'Durg',\n",
       "       'Ambikapur', 'Bhuj', 'Surat', 'Dharamshala', 'Solan', 'Mangalore',\n",
       "       'Mysore', 'Palakkad', 'Thrissur', 'Wayanad', 'Rewa', 'Sagar',\n",
       "       'Nashik', 'Maharashtra_Pune', 'Imphal', 'Jowai', 'Tura',\n",
       "       'Balasore', 'Berhampur', 'Jeypore', 'Udaipur', 'Gangtok',\n",
       "       'Coimbatore', 'Cuddalore', 'Dharmapuri', 'Ramanathapuram',\n",
       "       'Tirunelveli', 'Vellore', 'Adilabad', 'Karimnagar', 'Jadcherla',\n",
       "       'Suryapet', 'Warangal', 'Gorakhpur', 'Jhansi', 'Allahabad',\n",
       "       'Meerut', 'Haridwar', 'Haldwani', 'Rudrapur', 'Rampurhat', 'Malda',\n",
       "       'Purulia', 'Raiganj', 'Kharagpur', 'Una', 'Hoshangabad', 'Jhabua',\n",
       "       'Shahdol', 'Ujjain', 'Balangir', 'Baripada', 'Bokaro', 'Gumla',\n",
       "       'Lohardaga', 'Sahibganj', 'Simdega', 'Bengaluru (east range)',\n",
       "       'Belagavi', 'Vijayapur', 'Dhavanagere', 'Kalaburagi', 'Shivamogga',\n",
       "       'Bellary', 'Tumakuru', 'Araria', 'Katihar', 'Khagaria',\n",
       "       'Madhubani', 'Munger', 'Nawada', 'Motihari', 'Rohtas (sasaram)',\n",
       "       'Saharsa', 'Samastipur', 'Saran', 'Bilaspur-hp', 'Bharatpur',\n",
       "       'Bikaner', 'Morena', 'Ajmer', 'Aligarh', 'Bareilly', 'Moradabad',\n",
       "       'Ayodhya', 'Mirzapur (vindhyanchal)', 'Saharanpur'], dtype=object)"
      ]
     },
     "execution_count": 3,
     "metadata": {},
     "output_type": "execute_result"
    }
   ],
   "source": [
    "df['market'].unique()"
   ]
  },
  {
   "cell_type": "code",
   "execution_count": 12,
   "id": "23deec9f",
   "metadata": {},
   "outputs": [],
   "source": [
    "df_metro = df[(df['market'].isin(['Delhi','Mumbai','Chennai','Kolkata']))]"
   ]
  },
  {
   "cell_type": "code",
   "execution_count": 16,
   "id": "92ae2ae3",
   "metadata": {},
   "outputs": [],
   "source": [
    "df_metro_sugar = df_metro.loc[df_metro['commodity']=='Sugar']"
   ]
  },
  {
   "cell_type": "code",
   "execution_count": 17,
   "id": "fcbca24a",
   "metadata": {},
   "outputs": [
    {
     "data": {
      "text/html": [
       "<div>\n",
       "<style scoped>\n",
       "    .dataframe tbody tr th:only-of-type {\n",
       "        vertical-align: middle;\n",
       "    }\n",
       "\n",
       "    .dataframe tbody tr th {\n",
       "        vertical-align: top;\n",
       "    }\n",
       "\n",
       "    .dataframe thead th {\n",
       "        text-align: right;\n",
       "    }\n",
       "</style>\n",
       "<table border=\"1\" class=\"dataframe\">\n",
       "  <thead>\n",
       "    <tr style=\"text-align: right;\">\n",
       "      <th></th>\n",
       "      <th>market</th>\n",
       "      <th>price</th>\n",
       "    </tr>\n",
       "  </thead>\n",
       "  <tbody>\n",
       "    <tr>\n",
       "      <th>3</th>\n",
       "      <td>Mumbai</td>\n",
       "      <td>27.578481</td>\n",
       "    </tr>\n",
       "    <tr>\n",
       "      <th>2</th>\n",
       "      <td>Kolkata</td>\n",
       "      <td>27.397224</td>\n",
       "    </tr>\n",
       "    <tr>\n",
       "      <th>1</th>\n",
       "      <td>Delhi</td>\n",
       "      <td>27.232155</td>\n",
       "    </tr>\n",
       "    <tr>\n",
       "      <th>0</th>\n",
       "      <td>Chennai</td>\n",
       "      <td>26.076099</td>\n",
       "    </tr>\n",
       "  </tbody>\n",
       "</table>\n",
       "</div>"
      ],
      "text/plain": [
       "    market      price\n",
       "3   Mumbai  27.578481\n",
       "2  Kolkata  27.397224\n",
       "1    Delhi  27.232155\n",
       "0  Chennai  26.076099"
      ]
     },
     "execution_count": 17,
     "metadata": {},
     "output_type": "execute_result"
    }
   ],
   "source": [
    "df_metro_sugar.groupby('market').mean().reset_index().sort_values(by='price',ascending=False)"
   ]
  },
  {
   "cell_type": "code",
   "execution_count": 5,
   "id": "9dc20f88",
   "metadata": {
    "scrolled": true
   },
   "outputs": [
    {
     "data": {
      "text/plain": [
       "date           331\n",
       "market         155\n",
       "category         5\n",
       "commodity       21\n",
       "price        14832\n",
       "dtype: int64"
      ]
     },
     "execution_count": 5,
     "metadata": {},
     "output_type": "execute_result"
    }
   ],
   "source": [
    "df.nunique()"
   ]
  },
  {
   "cell_type": "code",
   "execution_count": 6,
   "id": "4583ddad",
   "metadata": {},
   "outputs": [
    {
     "data": {
      "text/plain": [
       "Sugar                  9600\n",
       "Rice                   9537\n",
       "Oil (mustard)          8872\n",
       "Wheat                  8442\n",
       "Potatoes               6839\n",
       "Onions                 6788\n",
       "Wheat flour            6270\n",
       "Salt (iodised)         6159\n",
       "Tomatoes               6152\n",
       "Lentils (masur)        5945\n",
       "Lentils                5686\n",
       "Tea (black)            5637\n",
       "Oil (sunflower)        5338\n",
       "Oil (groundnut)        4826\n",
       "Lentils (moong)        4584\n",
       "Lentils (urad)         4560\n",
       "Sugar (jaggery/gur)    4446\n",
       "Oil (palm)             4334\n",
       "Ghee (vanaspati)       4319\n",
       "Oil (soybean)          3632\n",
       "Chickpeas               998\n",
       "Name: commodity, dtype: int64"
      ]
     },
     "execution_count": 6,
     "metadata": {},
     "output_type": "execute_result"
    }
   ],
   "source": [
    "df['commodity'].value_counts()"
   ]
  },
  {
   "cell_type": "markdown",
   "id": "26525233",
   "metadata": {},
   "source": [
    "## Questions"
   ]
  },
  {
   "cell_type": "markdown",
   "id": "0baf5aa2",
   "metadata": {},
   "source": [
    "1.why I have chosen this dataset?\n",
    "\n",
    "2.what is ths business value?\n",
    "\n",
    "3.who is my target auidence?\n",
    "\n",
    "4.what is the purpose of this project?\n",
    "\n",
    "5.what is the end product?\n",
    "\n",
    "6.what are the tools I am gonna use?\n",
    "\n",
    "7.should this project worth the time doing it"
   ]
  },
  {
   "cell_type": "markdown",
   "id": "92d4fc56",
   "metadata": {},
   "source": [
    "1.I need to show people the trend of food prices in India across different markets.\n",
    "\n",
    "2.I need to show the price fluctutation and identify what is the reason\n",
    "\n",
    "3.How the prices deviates from one market to other and identify why?\n",
    "\n",
    "4.Time series analysis on date and prices\n",
    "\n",
    "5.How the prices differing across various seasons. Seasonal impact on prices\n",
    "\n",
    "6.Is cost of living and economy of that market a factor for price\n",
    "\n",
    "7.categorize oils and indentify prices\n",
    "\n",
    "8.rice,wheat\n",
    "\n",
    "9.potatao,onion,tomato\n",
    "\n",
    "10.sugar"
   ]
  },
  {
   "cell_type": "code",
   "execution_count": 7,
   "id": "10a51c69",
   "metadata": {},
   "outputs": [],
   "source": [
    "df_sugar = df.loc[df['commodity']=='Sugar']"
   ]
  },
  {
   "cell_type": "code",
   "execution_count": 8,
   "id": "0f9e0deb",
   "metadata": {},
   "outputs": [
    {
     "data": {
      "text/plain": [
       "(9600, 5)"
      ]
     },
     "execution_count": 8,
     "metadata": {},
     "output_type": "execute_result"
    }
   ],
   "source": [
    "df_sugar.shape"
   ]
  },
  {
   "cell_type": "code",
   "execution_count": 9,
   "id": "ef157a5f",
   "metadata": {},
   "outputs": [
    {
     "data": {
      "text/html": [
       "<div>\n",
       "<style scoped>\n",
       "    .dataframe tbody tr th:only-of-type {\n",
       "        vertical-align: middle;\n",
       "    }\n",
       "\n",
       "    .dataframe tbody tr th {\n",
       "        vertical-align: top;\n",
       "    }\n",
       "\n",
       "    .dataframe thead th {\n",
       "        text-align: right;\n",
       "    }\n",
       "</style>\n",
       "<table border=\"1\" class=\"dataframe\">\n",
       "  <thead>\n",
       "    <tr style=\"text-align: right;\">\n",
       "      <th></th>\n",
       "      <th>date</th>\n",
       "      <th>market</th>\n",
       "      <th>category</th>\n",
       "      <th>commodity</th>\n",
       "      <th>price</th>\n",
       "    </tr>\n",
       "  </thead>\n",
       "  <tbody>\n",
       "    <tr>\n",
       "      <th>2</th>\n",
       "      <td>1994-01-15</td>\n",
       "      <td>Delhi</td>\n",
       "      <td>miscellaneous food</td>\n",
       "      <td>Sugar</td>\n",
       "      <td>13.50</td>\n",
       "    </tr>\n",
       "    <tr>\n",
       "      <th>6</th>\n",
       "      <td>1994-01-15</td>\n",
       "      <td>Ahmedabad</td>\n",
       "      <td>miscellaneous food</td>\n",
       "      <td>Sugar</td>\n",
       "      <td>13.50</td>\n",
       "    </tr>\n",
       "    <tr>\n",
       "      <th>9</th>\n",
       "      <td>1994-01-15</td>\n",
       "      <td>Shimla</td>\n",
       "      <td>miscellaneous food</td>\n",
       "      <td>Sugar</td>\n",
       "      <td>13.75</td>\n",
       "    </tr>\n",
       "    <tr>\n",
       "      <th>12</th>\n",
       "      <td>1994-01-15</td>\n",
       "      <td>Bengaluru</td>\n",
       "      <td>miscellaneous food</td>\n",
       "      <td>Sugar</td>\n",
       "      <td>13.20</td>\n",
       "    </tr>\n",
       "    <tr>\n",
       "      <th>15</th>\n",
       "      <td>1994-01-15</td>\n",
       "      <td>Bhopal</td>\n",
       "      <td>miscellaneous food</td>\n",
       "      <td>Sugar</td>\n",
       "      <td>13.25</td>\n",
       "    </tr>\n",
       "  </tbody>\n",
       "</table>\n",
       "</div>"
      ],
      "text/plain": [
       "          date     market            category commodity  price\n",
       "2   1994-01-15      Delhi  miscellaneous food     Sugar  13.50\n",
       "6   1994-01-15  Ahmedabad  miscellaneous food     Sugar  13.50\n",
       "9   1994-01-15     Shimla  miscellaneous food     Sugar  13.75\n",
       "12  1994-01-15  Bengaluru  miscellaneous food     Sugar  13.20\n",
       "15  1994-01-15     Bhopal  miscellaneous food     Sugar  13.25"
      ]
     },
     "execution_count": 9,
     "metadata": {},
     "output_type": "execute_result"
    }
   ],
   "source": [
    "df_sugar.head()"
   ]
  },
  {
   "cell_type": "code",
   "execution_count": 10,
   "id": "12657ff0",
   "metadata": {},
   "outputs": [],
   "source": [
    "df_sugar_mean = df_sugar.groupby('market').mean().reset_index().sort_values(by = 'price',ascending = False)"
   ]
  },
  {
   "cell_type": "code",
   "execution_count": 26,
   "id": "b4f5d99f",
   "metadata": {},
   "outputs": [
    {
     "data": {
      "text/html": [
       "<div>\n",
       "<style scoped>\n",
       "    .dataframe tbody tr th:only-of-type {\n",
       "        vertical-align: middle;\n",
       "    }\n",
       "\n",
       "    .dataframe tbody tr th {\n",
       "        vertical-align: top;\n",
       "    }\n",
       "\n",
       "    .dataframe thead th {\n",
       "        text-align: right;\n",
       "    }\n",
       "</style>\n",
       "<table border=\"1\" class=\"dataframe\">\n",
       "  <thead>\n",
       "    <tr style=\"text-align: right;\">\n",
       "      <th></th>\n",
       "      <th>market</th>\n",
       "      <th>price</th>\n",
       "    </tr>\n",
       "  </thead>\n",
       "  <tbody>\n",
       "    <tr>\n",
       "      <th>90</th>\n",
       "      <td>Mayabunder</td>\n",
       "      <td>52.995000</td>\n",
       "    </tr>\n",
       "    <tr>\n",
       "      <th>59</th>\n",
       "      <td>Imphal</td>\n",
       "      <td>49.814286</td>\n",
       "    </tr>\n",
       "    <tr>\n",
       "      <th>107</th>\n",
       "      <td>Port Blair</td>\n",
       "      <td>46.877961</td>\n",
       "    </tr>\n",
       "    <tr>\n",
       "      <th>144</th>\n",
       "      <td>Tura</td>\n",
       "      <td>44.971000</td>\n",
       "    </tr>\n",
       "    <tr>\n",
       "      <th>69</th>\n",
       "      <td>Jowai</td>\n",
       "      <td>44.854000</td>\n",
       "    </tr>\n",
       "  </tbody>\n",
       "</table>\n",
       "</div>"
      ],
      "text/plain": [
       "         market      price\n",
       "90   Mayabunder  52.995000\n",
       "59       Imphal  49.814286\n",
       "107  Port Blair  46.877961\n",
       "144        Tura  44.971000\n",
       "69        Jowai  44.854000"
      ]
     },
     "execution_count": 26,
     "metadata": {},
     "output_type": "execute_result"
    }
   ],
   "source": [
    "df_sugar_mean.nlargest(5,'price')"
   ]
  },
  {
   "cell_type": "code",
   "execution_count": 27,
   "id": "32ca398e",
   "metadata": {},
   "outputs": [
    {
     "data": {
      "text/html": [
       "<div>\n",
       "<style scoped>\n",
       "    .dataframe tbody tr th:only-of-type {\n",
       "        vertical-align: middle;\n",
       "    }\n",
       "\n",
       "    .dataframe tbody tr th {\n",
       "        vertical-align: top;\n",
       "    }\n",
       "\n",
       "    .dataframe thead th {\n",
       "        text-align: right;\n",
       "    }\n",
       "</style>\n",
       "<table border=\"1\" class=\"dataframe\">\n",
       "  <thead>\n",
       "    <tr style=\"text-align: right;\">\n",
       "      <th></th>\n",
       "      <th>market</th>\n",
       "      <th>price</th>\n",
       "    </tr>\n",
       "  </thead>\n",
       "  <tbody>\n",
       "    <tr>\n",
       "      <th>142</th>\n",
       "      <td>Tiruvanantapuram</td>\n",
       "      <td>22.755266</td>\n",
       "    </tr>\n",
       "    <tr>\n",
       "      <th>33</th>\n",
       "      <td>Chennai</td>\n",
       "      <td>26.076099</td>\n",
       "    </tr>\n",
       "    <tr>\n",
       "      <th>58</th>\n",
       "      <td>Hyderabad</td>\n",
       "      <td>26.165000</td>\n",
       "    </tr>\n",
       "    <tr>\n",
       "      <th>19</th>\n",
       "      <td>Bengaluru</td>\n",
       "      <td>26.229697</td>\n",
       "    </tr>\n",
       "    <tr>\n",
       "      <th>64</th>\n",
       "      <td>Jaipur</td>\n",
       "      <td>26.331212</td>\n",
       "    </tr>\n",
       "  </tbody>\n",
       "</table>\n",
       "</div>"
      ],
      "text/plain": [
       "               market      price\n",
       "142  Tiruvanantapuram  22.755266\n",
       "33            Chennai  26.076099\n",
       "58          Hyderabad  26.165000\n",
       "19          Bengaluru  26.229697\n",
       "64             Jaipur  26.331212"
      ]
     },
     "execution_count": 27,
     "metadata": {},
     "output_type": "execute_result"
    }
   ],
   "source": [
    "df_sugar_mean.nsmallest(5,'price')"
   ]
  },
  {
   "cell_type": "markdown",
   "id": "66a519bf",
   "metadata": {},
   "source": [
    "## My focus is on tamilnadu markets"
   ]
  },
  {
   "cell_type": "code",
   "execution_count": 4,
   "id": "1c9914b8",
   "metadata": {},
   "outputs": [
    {
     "data": {
      "text/html": [
       "<div>\n",
       "<style scoped>\n",
       "    .dataframe tbody tr th:only-of-type {\n",
       "        vertical-align: middle;\n",
       "    }\n",
       "\n",
       "    .dataframe tbody tr th {\n",
       "        vertical-align: top;\n",
       "    }\n",
       "\n",
       "    .dataframe thead th {\n",
       "        text-align: right;\n",
       "    }\n",
       "</style>\n",
       "<table border=\"1\" class=\"dataframe\">\n",
       "  <thead>\n",
       "    <tr style=\"text-align: right;\">\n",
       "      <th></th>\n",
       "      <th>date</th>\n",
       "      <th>admin1</th>\n",
       "      <th>admin2</th>\n",
       "      <th>market</th>\n",
       "      <th>latitude</th>\n",
       "      <th>longitude</th>\n",
       "      <th>category</th>\n",
       "      <th>commodity</th>\n",
       "      <th>unit</th>\n",
       "      <th>pricetype</th>\n",
       "      <th>currency</th>\n",
       "      <th>price</th>\n",
       "      <th>usdprice</th>\n",
       "    </tr>\n",
       "  </thead>\n",
       "  <tbody>\n",
       "    <tr>\n",
       "      <th>0</th>\n",
       "      <td>1994-01-15</td>\n",
       "      <td>Delhi</td>\n",
       "      <td>Delhi</td>\n",
       "      <td>Delhi</td>\n",
       "      <td>28.67</td>\n",
       "      <td>77.2</td>\n",
       "      <td>cereals and tubers</td>\n",
       "      <td>Rice</td>\n",
       "      <td>KG</td>\n",
       "      <td>actual</td>\n",
       "      <td>INR</td>\n",
       "      <td>8.0</td>\n",
       "      <td>0.25</td>\n",
       "    </tr>\n",
       "    <tr>\n",
       "      <th>1</th>\n",
       "      <td>1994-01-15</td>\n",
       "      <td>Delhi</td>\n",
       "      <td>Delhi</td>\n",
       "      <td>Delhi</td>\n",
       "      <td>28.67</td>\n",
       "      <td>77.2</td>\n",
       "      <td>cereals and tubers</td>\n",
       "      <td>Wheat</td>\n",
       "      <td>KG</td>\n",
       "      <td>actual</td>\n",
       "      <td>INR</td>\n",
       "      <td>5.0</td>\n",
       "      <td>0.16</td>\n",
       "    </tr>\n",
       "    <tr>\n",
       "      <th>2</th>\n",
       "      <td>1994-01-15</td>\n",
       "      <td>Delhi</td>\n",
       "      <td>Delhi</td>\n",
       "      <td>Delhi</td>\n",
       "      <td>28.67</td>\n",
       "      <td>77.2</td>\n",
       "      <td>miscellaneous food</td>\n",
       "      <td>Sugar</td>\n",
       "      <td>KG</td>\n",
       "      <td>actual</td>\n",
       "      <td>INR</td>\n",
       "      <td>13.5</td>\n",
       "      <td>0.43</td>\n",
       "    </tr>\n",
       "    <tr>\n",
       "      <th>3</th>\n",
       "      <td>1994-01-15</td>\n",
       "      <td>Delhi</td>\n",
       "      <td>Delhi</td>\n",
       "      <td>Delhi</td>\n",
       "      <td>28.67</td>\n",
       "      <td>77.2</td>\n",
       "      <td>oil and fats</td>\n",
       "      <td>Oil (mustard)</td>\n",
       "      <td>KG</td>\n",
       "      <td>actual</td>\n",
       "      <td>INR</td>\n",
       "      <td>31.0</td>\n",
       "      <td>0.99</td>\n",
       "    </tr>\n",
       "    <tr>\n",
       "      <th>4</th>\n",
       "      <td>1994-01-15</td>\n",
       "      <td>Gujarat</td>\n",
       "      <td>Ahmadabad</td>\n",
       "      <td>Ahmedabad</td>\n",
       "      <td>23.03</td>\n",
       "      <td>72.6</td>\n",
       "      <td>cereals and tubers</td>\n",
       "      <td>Rice</td>\n",
       "      <td>KG</td>\n",
       "      <td>actual</td>\n",
       "      <td>INR</td>\n",
       "      <td>6.8</td>\n",
       "      <td>0.22</td>\n",
       "    </tr>\n",
       "  </tbody>\n",
       "</table>\n",
       "</div>"
      ],
      "text/plain": [
       "         date   admin1     admin2     market  latitude  longitude  \\\n",
       "0  1994-01-15    Delhi      Delhi      Delhi     28.67       77.2   \n",
       "1  1994-01-15    Delhi      Delhi      Delhi     28.67       77.2   \n",
       "2  1994-01-15    Delhi      Delhi      Delhi     28.67       77.2   \n",
       "3  1994-01-15    Delhi      Delhi      Delhi     28.67       77.2   \n",
       "4  1994-01-15  Gujarat  Ahmadabad  Ahmedabad     23.03       72.6   \n",
       "\n",
       "             category      commodity unit pricetype currency  price  usdprice  \n",
       "0  cereals and tubers           Rice   KG    actual      INR    8.0      0.25  \n",
       "1  cereals and tubers          Wheat   KG    actual      INR    5.0      0.16  \n",
       "2  miscellaneous food          Sugar   KG    actual      INR   13.5      0.43  \n",
       "3        oil and fats  Oil (mustard)   KG    actual      INR   31.0      0.99  \n",
       "4  cereals and tubers           Rice   KG    actual      INR    6.8      0.22  "
      ]
     },
     "execution_count": 4,
     "metadata": {},
     "output_type": "execute_result"
    }
   ],
   "source": [
    "df1 = pd.read_csv('optimised_food_price.csv')\n",
    "df1.head()"
   ]
  },
  {
   "cell_type": "code",
   "execution_count": null,
   "id": "04c81e52",
   "metadata": {},
   "outputs": [],
   "source": [
    "df1"
   ]
  },
  {
   "cell_type": "code",
   "execution_count": 6,
   "id": "6c9ea02b",
   "metadata": {},
   "outputs": [
    {
     "data": {
      "text/plain": [
       "(132348, 13)"
      ]
     },
     "execution_count": 6,
     "metadata": {},
     "output_type": "execute_result"
    }
   ],
   "source": [
    "df1.shape"
   ]
  },
  {
   "cell_type": "code",
   "execution_count": 7,
   "id": "f241cb56",
   "metadata": {},
   "outputs": [
    {
     "data": {
      "text/plain": [
       "array(['Delhi', 'Gujarat', 'Himachal Pradesh', 'Karnataka',\n",
       "       'Madhya Pradesh', 'Maharashtra', 'Orissa', 'Telangana', 'Tripura',\n",
       "       'West Bengal', 'Meghalaya', 'Rajasthan', 'Tamil Nadu', 'Assam',\n",
       "       'Kerala', 'Uttar Pradesh', 'Mizoram', 'Bihar', 'Chandigarh',\n",
       "       'Jharkhand', 'Nagaland', 'Punjab', 'Uttarakhand', 'Andhra Pradesh',\n",
       "       'Haryana', 'Andaman and Nicobar', 'Puducherry', 'Goa',\n",
       "       'Chhattisgarh', 'Manipur', 'Sikkim'], dtype=object)"
      ]
     },
     "execution_count": 7,
     "metadata": {},
     "output_type": "execute_result"
    }
   ],
   "source": [
    "df1['admin1'].unique()"
   ]
  },
  {
   "cell_type": "code",
   "execution_count": 10,
   "id": "c207e391",
   "metadata": {},
   "outputs": [
    {
     "data": {
      "text/plain": [
       "Index(['date', 'admin1', 'admin2', 'market', 'latitude', 'longitude',\n",
       "       'category', 'commodity', 'unit', 'pricetype', 'currency', 'price',\n",
       "       'usdprice'],\n",
       "      dtype='object')"
      ]
     },
     "execution_count": 10,
     "metadata": {},
     "output_type": "execute_result"
    }
   ],
   "source": [
    "df1.columns"
   ]
  },
  {
   "cell_type": "code",
   "execution_count": 12,
   "id": "12c163c6",
   "metadata": {
    "scrolled": true
   },
   "outputs": [],
   "source": [
    "df_tn_tomato_price = df1.loc[(df1['admin1']=='Tamil Nadu')&(df1['commodity']=='Tomatoes')][['date', 'admin1', 'admin2', 'market','price',\n",
    "       'usdprice']]"
   ]
  },
  {
   "cell_type": "code",
   "execution_count": 16,
   "id": "f929a30b",
   "metadata": {},
   "outputs": [
    {
     "data": {
      "text/plain": [
       "date         104\n",
       "admin1         1\n",
       "admin2         9\n",
       "market         9\n",
       "latitude       9\n",
       "longitude      9\n",
       "category       1\n",
       "commodity      1\n",
       "unit           1\n",
       "pricetype      1\n",
       "currency       1\n",
       "price        330\n",
       "usdprice      67\n",
       "dtype: int64"
      ]
     },
     "execution_count": 16,
     "metadata": {},
     "output_type": "execute_result"
    }
   ],
   "source": [
    "df1.loc[(df1['admin1']=='Tamil Nadu')&(df1['commodity']=='Tomatoes')].nunique()"
   ]
  },
  {
   "cell_type": "code",
   "execution_count": 14,
   "id": "ef12bab9",
   "metadata": {},
   "outputs": [
    {
     "data": {
      "text/plain": [
       "date        104\n",
       "admin1        1\n",
       "admin2        9\n",
       "market        9\n",
       "price       330\n",
       "usdprice     67\n",
       "dtype: int64"
      ]
     },
     "execution_count": 14,
     "metadata": {},
     "output_type": "execute_result"
    }
   ],
   "source": [
    "df_tn_tomato_price.nunique()"
   ]
  },
  {
   "cell_type": "code",
   "execution_count": 13,
   "id": "49758bb7",
   "metadata": {},
   "outputs": [],
   "source": [
    "df_tn_tomato_price.to_csv('tn_tomato_price.csv',index = False)"
   ]
  }
 ],
 "metadata": {
  "kernelspec": {
   "display_name": "Python 3 (ipykernel)",
   "language": "python",
   "name": "python3"
  },
  "language_info": {
   "codemirror_mode": {
    "name": "ipython",
    "version": 3
   },
   "file_extension": ".py",
   "mimetype": "text/x-python",
   "name": "python",
   "nbconvert_exporter": "python",
   "pygments_lexer": "ipython3",
   "version": "3.9.12"
  }
 },
 "nbformat": 4,
 "nbformat_minor": 5
}
